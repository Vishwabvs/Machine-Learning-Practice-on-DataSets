{
 "cells": [
  {
   "cell_type": "code",
   "execution_count": 3,
   "metadata": {},
   "outputs": [],
   "source": [
    "import numpy as np\n",
    "import matplotlib.pyplot as plt\n",
    "import pandas as pd"
   ]
  },
  {
   "cell_type": "code",
   "execution_count": 4,
   "metadata": {},
   "outputs": [
    {
     "name": "stdout",
     "output_type": "stream",
     "text": [
      "AutoInsurance.csv                        AutoInsurance.xls\r\n",
      "AutoInsurance_PolynomialRegression.py    AutoInsurSweden_DataSet1.pdf\r\n",
      "AutoInsurance.py                         Auto.py\r\n",
      "AutoInsurance_SimpleLinearRegression.py  Untitled.ipynb\r\n",
      "AutoInsurance_SVR.py\r\n"
     ]
    }
   ],
   "source": [
    "ls"
   ]
  },
  {
   "cell_type": "code",
   "execution_count": 93,
   "metadata": {},
   "outputs": [
    {
     "data": {
      "text/html": [
       "<div>\n",
       "<style scoped>\n",
       "    .dataframe tbody tr th:only-of-type {\n",
       "        vertical-align: middle;\n",
       "    }\n",
       "\n",
       "    .dataframe tbody tr th {\n",
       "        vertical-align: top;\n",
       "    }\n",
       "\n",
       "    .dataframe thead th {\n",
       "        text-align: right;\n",
       "    }\n",
       "</style>\n",
       "<table border=\"1\" class=\"dataframe\">\n",
       "  <thead>\n",
       "    <tr style=\"text-align: right;\">\n",
       "      <th></th>\n",
       "      <th>X</th>\n",
       "      <th>Y</th>\n",
       "    </tr>\n",
       "  </thead>\n",
       "  <tbody>\n",
       "    <tr>\n",
       "      <th>0</th>\n",
       "      <td>108</td>\n",
       "      <td>392.5</td>\n",
       "    </tr>\n",
       "    <tr>\n",
       "      <th>1</th>\n",
       "      <td>19</td>\n",
       "      <td>46.2</td>\n",
       "    </tr>\n",
       "    <tr>\n",
       "      <th>2</th>\n",
       "      <td>13</td>\n",
       "      <td>15.7</td>\n",
       "    </tr>\n",
       "    <tr>\n",
       "      <th>3</th>\n",
       "      <td>124</td>\n",
       "      <td>422.2</td>\n",
       "    </tr>\n",
       "    <tr>\n",
       "      <th>4</th>\n",
       "      <td>40</td>\n",
       "      <td>119.4</td>\n",
       "    </tr>\n",
       "  </tbody>\n",
       "</table>\n",
       "</div>"
      ],
      "text/plain": [
       "     X      Y\n",
       "0  108  392.5\n",
       "1   19   46.2\n",
       "2   13   15.7\n",
       "3  124  422.2\n",
       "4   40  119.4"
      ]
     },
     "execution_count": 93,
     "metadata": {},
     "output_type": "execute_result"
    }
   ],
   "source": [
    "data = pd.read_csv('AutoInsurance.csv')\n",
    "data.head()"
   ]
  },
  {
   "cell_type": "code",
   "execution_count": 192,
   "metadata": {},
   "outputs": [
    {
     "data": {
      "text/plain": [
       "(63, 1)"
      ]
     },
     "execution_count": 192,
     "metadata": {},
     "output_type": "execute_result"
    }
   ],
   "source": [
    "X = data.iloc[:,:-1].values\n",
    "y = data.iloc[:,-1].values\n",
    "y = y.reshape(X.shape[0],1)\n",
    "\n",
    "X = np.append(np.ones((X.shape[0],1)),X,axis = 1)\n",
    "y.shape"
   ]
  },
  {
   "cell_type": "code",
   "execution_count": 193,
   "metadata": {},
   "outputs": [
    {
     "name": "stdout",
     "output_type": "stream",
     "text": [
      "(50, 2)\n"
     ]
    }
   ],
   "source": [
    "from sklearn.model_selection import train_test_split\n",
    "x_train,x_test,y_train,y_test = train_test_split(X,y,test_size = 0.2)\n",
    "print(x_train.shape)"
   ]
  },
  {
   "cell_type": "code",
   "execution_count": 194,
   "metadata": {},
   "outputs": [],
   "source": [
    "def cost_func(X,y,theta):\n",
    "    m = X.shape[0]\n",
    "    z = np.dot(X,theta)\n",
    "    J = (0.5/m)*np.sum(np.power(z-y,2))\n",
    "    return J\n"
   ]
  },
  {
   "cell_type": "code",
   "execution_count": 223,
   "metadata": {},
   "outputs": [
    {
     "data": {
      "text/plain": [
       "array([[ 0.12428423],\n",
       "       [ 0.93712938]])"
      ]
     },
     "execution_count": 223,
     "metadata": {},
     "output_type": "execute_result"
    }
   ],
   "source": [
    "#intialising parameters\n",
    "init_theta = np.random.rand(2,1)\n",
    "init_theta"
   ]
  },
  {
   "cell_type": "code",
   "execution_count": 224,
   "metadata": {},
   "outputs": [
    {
     "data": {
      "text/plain": [
       "4733.5117907304821"
      ]
     },
     "execution_count": 224,
     "metadata": {},
     "output_type": "execute_result"
    }
   ],
   "source": [
    "cost = cost_func(x_train,y_train,init_theta)\n",
    "cost"
   ]
  },
  {
   "cell_type": "code",
   "execution_count": 225,
   "metadata": {},
   "outputs": [
    {
     "ename": "SyntaxError",
     "evalue": "EOL while scanning string literal (<ipython-input-225-2511d8204f69>, line 21)",
     "output_type": "error",
     "traceback": [
      "\u001b[0;36m  File \u001b[0;32m\"<ipython-input-225-2511d8204f69>\"\u001b[0;36m, line \u001b[0;32m21\u001b[0m\n\u001b[0;31m    theta[1,0] = theta1''''\u001b[0m\n\u001b[0m                           \n^\u001b[0m\n\u001b[0;31mSyntaxError\u001b[0m\u001b[0;31m:\u001b[0m EOL while scanning string literal\n"
     ]
    }
   ],
   "source": [
    "def find_grads(theta,X,y):\n",
    "    m = X.shape[0]\n",
    "    #print(str(X.shape)+\" hehe \"+str(theta.shape))\n",
    "    grad0 = (1/m)*np.sum(np.dot(X,theta)-y)\n",
    "    grad1 = (1/m)*np.sum(np.multiply(np.dot(X,theta)-y,X[:,1]))\n",
    "    \n",
    "    #grads = (1/m)*np.sum(np.dot(np.dot(X,theta)-y,X))\n",
    "        \n",
    "    #grads[\"grad0\"] = grad0\n",
    "    #grads[\"grad1\"] = grad1\n",
    "    return grad0,grad1\n",
    "\n",
    "\n",
    "''''grad0,grad1 = find_grads(theta,X,y)\n",
    "        #grad0 = grads[\"grad0\"]\n",
    "        #grad1 = grads[\"grad1\"]\n",
    "        theta0 = theta0 - alpha*grad0\n",
    "        theta1 = theta1 - alpha*grad1\n",
    "        #theta = theta - alpha*grads\n",
    "        theta[0,0] = theta0\n",
    "        theta[1,0] = theta1''''"
   ]
  },
  {
   "cell_type": "code",
   "execution_count": 226,
   "metadata": {},
   "outputs": [],
   "source": [
    "def gradient_descent(iterations,alpha,theta,X,y):\n",
    "    m = X.shape[0]\n",
    "    q = alpha*(1/m)*np.dot(X.T,np.dot(X,theta)-y)\n",
    "    print(q.shape)\n",
    "    \n",
    "    for i in range(iterations):\n",
    "        theta = theta - alpha*(1/m)*np.dot(X.T,np.dot(X,theta)-y)\n",
    "        \n",
    "    return theta\n"
   ]
  },
  {
   "cell_type": "code",
   "execution_count": 227,
   "metadata": {},
   "outputs": [
    {
     "name": "stdout",
     "output_type": "stream",
     "text": [
      "[[ 0.12428423]\n",
      " [ 0.93712938]]\n",
      "(2, 1)\n",
      "[[ -1.26292529e+85]\n",
      " [ -5.08496601e+86]]\n"
     ]
    }
   ],
   "source": [
    "print(init_theta)\n",
    "opt_theta = gradient_descent(100,0.01,init_theta,x_train,y_train)\n",
    "print(opt_theta)"
   ]
  },
  {
   "cell_type": "code",
   "execution_count": 228,
   "metadata": {},
   "outputs": [
    {
     "data": {
      "text/plain": [
       "1.071148245129401e+176"
      ]
     },
     "execution_count": 228,
     "metadata": {},
     "output_type": "execute_result"
    }
   ],
   "source": [
    "cost = cost_func(x_train,y_train,opt_theta)\n",
    "cost"
   ]
  },
  {
   "cell_type": "code",
   "execution_count": 229,
   "metadata": {},
   "outputs": [],
   "source": [
    "y_pred = np.dot(x_test,opt_theta)"
   ]
  },
  {
   "cell_type": "code",
   "execution_count": 230,
   "metadata": {},
   "outputs": [
    {
     "data": {
      "text/plain": [
       "array([[ -1.01825613e+88],\n",
       "       [ -2.28949763e+88],\n",
       "       [ -1.11995545e+88],\n",
       "       [ -2.03524933e+88],\n",
       "       [ -2.89969355e+88],\n",
       "       [ -1.47590307e+88],\n",
       "       [ -4.58909866e+87],\n",
       "       [ -6.30662078e+88],\n",
       "       [ -1.27250443e+88],\n",
       "       [ -2.04661566e+87],\n",
       "       [ -1.02962246e+87],\n",
       "       [ -8.14857487e+87],\n",
       "       [ -1.17080511e+88]])"
      ]
     },
     "execution_count": 230,
     "metadata": {},
     "output_type": "execute_result"
    }
   ],
   "source": [
    "y_pred"
   ]
  },
  {
   "cell_type": "code",
   "execution_count": null,
   "metadata": {},
   "outputs": [],
   "source": []
  }
 ],
 "metadata": {
  "kernelspec": {
   "display_name": "Python 3",
   "language": "python",
   "name": "python3"
  },
  "language_info": {
   "codemirror_mode": {
    "name": "ipython",
    "version": 3
   },
   "file_extension": ".py",
   "mimetype": "text/x-python",
   "name": "python",
   "nbconvert_exporter": "python",
   "pygments_lexer": "ipython3",
   "version": "3.6.9"
  }
 },
 "nbformat": 4,
 "nbformat_minor": 2
}
