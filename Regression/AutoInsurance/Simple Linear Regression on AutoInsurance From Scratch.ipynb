{
 "cells": [
  {
   "cell_type": "code",
   "execution_count": 156,
   "metadata": {},
   "outputs": [],
   "source": [
    "import pandas as pd\n",
    "import numpy as np\n",
    "import matplotlib.pyplot as plt"
   ]
  },
  {
   "cell_type": "code",
   "execution_count": 157,
   "metadata": {},
   "outputs": [
    {
     "name": "stdout",
     "output_type": "stream",
     "text": [
      " AutoInsurance.csv\r\n",
      " AutoInsurance_PolynomialRegression.py\r\n",
      " AutoInsurance.py\r\n",
      " AutoInsurance_SimpleLinearRegression.py\r\n",
      " AutoInsurance_SVR.py\r\n",
      " AutoInsurance.xls\r\n",
      " AutoInsurSweden_DataSet1.pdf\r\n",
      " Auto.py\r\n",
      " Linear_Regression_from_scratch.ipynb\r\n",
      "'Simple Linear Regression on AutoInsurance From Scratch.ipynb'\r\n",
      "'Simple Linear Regression on AutoInsurance From Scratch.py'\r\n",
      "'Simple Linear Regression on AutoInsurance.ipynb'\r\n",
      " Test.ipynb\r\n"
     ]
    }
   ],
   "source": [
    "ls"
   ]
  },
  {
   "cell_type": "code",
   "execution_count": 158,
   "metadata": {},
   "outputs": [
    {
     "data": {
      "text/html": [
       "<div>\n",
       "<style scoped>\n",
       "    .dataframe tbody tr th:only-of-type {\n",
       "        vertical-align: middle;\n",
       "    }\n",
       "\n",
       "    .dataframe tbody tr th {\n",
       "        vertical-align: top;\n",
       "    }\n",
       "\n",
       "    .dataframe thead th {\n",
       "        text-align: right;\n",
       "    }\n",
       "</style>\n",
       "<table border=\"1\" class=\"dataframe\">\n",
       "  <thead>\n",
       "    <tr style=\"text-align: right;\">\n",
       "      <th></th>\n",
       "      <th>X</th>\n",
       "      <th>Y</th>\n",
       "    </tr>\n",
       "  </thead>\n",
       "  <tbody>\n",
       "    <tr>\n",
       "      <th>0</th>\n",
       "      <td>108</td>\n",
       "      <td>392.5</td>\n",
       "    </tr>\n",
       "    <tr>\n",
       "      <th>1</th>\n",
       "      <td>19</td>\n",
       "      <td>46.2</td>\n",
       "    </tr>\n",
       "    <tr>\n",
       "      <th>2</th>\n",
       "      <td>13</td>\n",
       "      <td>15.7</td>\n",
       "    </tr>\n",
       "    <tr>\n",
       "      <th>3</th>\n",
       "      <td>124</td>\n",
       "      <td>422.2</td>\n",
       "    </tr>\n",
       "    <tr>\n",
       "      <th>4</th>\n",
       "      <td>40</td>\n",
       "      <td>119.4</td>\n",
       "    </tr>\n",
       "  </tbody>\n",
       "</table>\n",
       "</div>"
      ],
      "text/plain": [
       "     X      Y\n",
       "0  108  392.5\n",
       "1   19   46.2\n",
       "2   13   15.7\n",
       "3  124  422.2\n",
       "4   40  119.4"
      ]
     },
     "execution_count": 158,
     "metadata": {},
     "output_type": "execute_result"
    }
   ],
   "source": [
    "data = pd.read_csv('AutoInsurance.csv')\n",
    "data.head()"
   ]
  },
  {
   "cell_type": "code",
   "execution_count": 159,
   "metadata": {},
   "outputs": [],
   "source": [
    "#intializing x and y\n",
    "old_X = data.iloc[:,:-1].values\n",
    "y = data.iloc[:,-1].values\n",
    "m = old_X.shape[0]\n",
    "y.resize(m,1)"
   ]
  },
  {
   "cell_type": "code",
   "execution_count": 160,
   "metadata": {},
   "outputs": [
    {
     "name": "stdout",
     "output_type": "stream",
     "text": [
      "(47, 1)\n",
      "(47, 1)\n",
      "(16, 1)\n",
      "(16, 1)\n"
     ]
    }
   ],
   "source": [
    "#seperating data into train and test sets\n",
    "from sklearn.model_selection import train_test_split\n",
    "x_train,x_test,y_train,y_test = train_test_split(old_X,y,test_size = 0.25)\n",
    "x_train_plt = x_train\n",
    "y_train_plt = y_train\n",
    "x_test_plt = x_test\n",
    "y_test_plt = y_test\n",
    "print(x_train.shape)\n",
    "print(y_train.shape)\n",
    "print(x_test.shape)\n",
    "print(y_test.shape)"
   ]
  },
  {
   "cell_type": "code",
   "execution_count": 161,
   "metadata": {},
   "outputs": [
    {
     "data": {
      "text/plain": [
       "array([[   1.,   61.],\n",
       "       [   1.,    7.],\n",
       "       [   1.,   15.],\n",
       "       [   1.,    6.],\n",
       "       [   1.,    0.],\n",
       "       [   1.,   20.],\n",
       "       [   1.,   29.],\n",
       "       [   1.,   13.],\n",
       "       [   1.,   55.],\n",
       "       [   1.,    2.],\n",
       "       [   1.,   26.],\n",
       "       [   1.,    7.],\n",
       "       [   1.,   57.],\n",
       "       [   1.,  124.],\n",
       "       [   1.,   30.],\n",
       "       [   1.,   37.],\n",
       "       [   1.,   11.],\n",
       "       [   1.,   24.],\n",
       "       [   1.,    3.],\n",
       "       [   1.,    4.],\n",
       "       [   1.,   19.],\n",
       "       [   1.,   31.],\n",
       "       [   1.,    9.],\n",
       "       [   1.,   41.],\n",
       "       [   1.,    6.],\n",
       "       [   1.,  108.],\n",
       "       [   1.,    4.],\n",
       "       [   1.,   13.],\n",
       "       [   1.,   48.],\n",
       "       [   1.,   23.],\n",
       "       [   1.,   14.],\n",
       "       [   1.,   13.],\n",
       "       [   1.,   22.],\n",
       "       [   1.,   11.],\n",
       "       [   1.,   25.],\n",
       "       [   1.,   13.],\n",
       "       [   1.,   45.],\n",
       "       [   1.,   24.],\n",
       "       [   1.,    5.],\n",
       "       [   1.,   10.],\n",
       "       [   1.,   12.],\n",
       "       [   1.,   23.],\n",
       "       [   1.,   60.],\n",
       "       [   1.,   11.],\n",
       "       [   1.,   41.],\n",
       "       [   1.,    9.],\n",
       "       [   1.,    4.]])"
      ]
     },
     "execution_count": 161,
     "metadata": {},
     "output_type": "execute_result"
    }
   ],
   "source": [
    "#appending column of ones to independent variable X\n",
    "m = x_train.shape[0]\n",
    "x_train = np.c_[np.ones((m,1)),x_train]\n",
    "x_test = np.c_[np.ones((x_test.shape[0],1)),x_test]\n",
    "x_train"
   ]
  },
  {
   "cell_type": "code",
   "execution_count": 162,
   "metadata": {},
   "outputs": [
    {
     "data": {
      "text/plain": [
       "Text(0,0.5,\"Total payment for all the claims in 1000's\")"
      ]
     },
     "execution_count": 162,
     "metadata": {},
     "output_type": "execute_result"
    },
    {
     "data": {
      "image/png": "[encoded data removed]",
      "text/plain": [
       "<matplotlib.figure.Figure at 0x7faa83b0de10>"
      ]
     },
     "metadata": {},
     "output_type": "display_data"
    }
   ],
   "source": [
    "#Visualising data\n",
    "plt.scatter(old_X,y,color = 'red')\n",
    "plt.title('AutoInsurance')\n",
    "plt.xlabel('Number of Claims')\n",
    "plt.ylabel('Total payment for all the claims in 1000\\'s')"
   ]
  },
  {
   "cell_type": "markdown",
   "metadata": {},
   "source": [
    "we have to fit a linear regression model to predict y\n"
   ]
  },
  {
   "cell_type": "code",
   "execution_count": 163,
   "metadata": {},
   "outputs": [
    {
     "data": {
      "text/plain": [
       "array([[ 0.62780583],\n",
       "       [-1.52847308]])"
      ]
     },
     "execution_count": 163,
     "metadata": {},
     "output_type": "execute_result"
    }
   ],
   "source": [
    "#Initializing Weights with zeros\n",
    "init_theta = np.random.randn(2,1)\n",
    "init_theta"
   ]
  },
  {
   "cell_type": "code",
   "execution_count": 164,
   "metadata": {},
   "outputs": [],
   "source": [
    "def cost_func(X,y,Theta):\n",
    "    m = X.shape[0]\n",
    "    J = (-1/(2*m))*sum((X.dot(Theta)-y)**2)\n",
    "    return J"
   ]
  },
  {
   "cell_type": "code",
   "execution_count": 165,
   "metadata": {},
   "outputs": [],
   "source": [
    "def grad_desc(X,y,theta,iterations = 1500,alpha = 0.001):\n",
    "    costs = []\n",
    "    for i in range(iterations):\n",
    "        dtheta = (1/m)*np.dot(X.T,(np.dot(X,theta)-y))\n",
    "        theta = theta - (alpha*dtheta)\n",
    "        if(i%100 == 0):\n",
    "            #print(dtheta)\n",
    "            costs.append(cost_func(X,y,theta))\n",
    "    return theta,costs        "
   ]
  },
  {
   "cell_type": "code",
   "execution_count": 166,
   "metadata": {},
   "outputs": [
    {
     "name": "stdout",
     "output_type": "stream",
     "text": [
      "[[ 0.62780583]\n",
      " [-1.52847308]]\n",
      "[[ 11.42554639]\n",
      " [  3.57544104]]\n"
     ]
    }
   ],
   "source": [
    "print(init_theta)\n",
    "theta,costs = grad_desc(x_train,y_train,init_theta,iterations = 2000,alpha = 0.001)\n",
    "print(theta)"
   ]
  },
  {
   "cell_type": "code",
   "execution_count": 167,
   "metadata": {},
   "outputs": [
    {
     "data": {
      "text/plain": [
       "array([[ 107.9624544 ],\n",
       "       [  36.45363365],\n",
       "       [  40.02907469],\n",
       "       [  61.48172091],\n",
       "       [  22.1518695 ],\n",
       "       [ 200.92392138],\n",
       "       [ 115.11333648],\n",
       "       [  68.63260299],\n",
       "       [  32.87819261],\n",
       "       [  93.66069025],\n",
       "       [  43.60451573],\n",
       "       [  29.30275157],\n",
       "       [  40.02907469],\n",
       "       [  22.1518695 ],\n",
       "       [  72.20804403],\n",
       "       [ 154.44318789]])"
      ]
     },
     "execution_count": 167,
     "metadata": {},
     "output_type": "execute_result"
    }
   ],
   "source": [
    "y_pred = np.dot(x_test,theta)\n",
    "y_pred"
   ]
  },
  {
   "cell_type": "code",
   "execution_count": 177,
   "metadata": {},
   "outputs": [
    {
     "data": {
      "text/plain": [
       "[<matplotlib.lines.Line2D at 0x7faa836b3cf8>]"
      ]
     },
     "execution_count": 177,
     "metadata": {},
     "output_type": "execute_result"
    },
    {
     "data": {
      "image/png": "[encoded data removed]",
      "text/plain": [
       "<matplotlib.figure.Figure at 0x7faa83709860>"
      ]
     },
     "metadata": {},
     "output_type": "display_data"
    }
   ],
   "source": [
    "plt.subplot(1,2,1)\n",
    "plt.scatter(x_train_plt,y_train_plt,color = 'red')\n",
    "plt.plot(x_train_plt,x_train.dot(theta),color = 'blue')\n",
    "plt.subplot(1,2,2)\n",
    "plt.scatter(x_test_plt,y_test_plt,color = 'red')\n",
    "plt.plot(x_test_plt,x_test.dot(theta),color = 'green')\n"
   ]
  },
  {
   "cell_type": "code",
   "execution_count": null,
   "metadata": {},
   "outputs": [],
   "source": []
  },
  {
   "cell_type": "code",
   "execution_count": 169,
   "metadata": {},
   "outputs": [],
   "source": [
    "def predict_error(y_test,y_pred):\n",
    "    error = np.sqrt(np.sum((y_test-y_pred)**2)/y_test.shape[0])\n",
    "    return error"
   ]
  },
  {
   "cell_type": "code",
   "execution_count": 170,
   "metadata": {},
   "outputs": [
    {
     "name": "stdout",
     "output_type": "stream",
     "text": [
      "29.8047560702\n"
     ]
    }
   ],
   "source": [
    "error = predict_error(y_test,y_pred)\n",
    "print(error)"
   ]
  },
  {
   "cell_type": "code",
   "execution_count": null,
   "metadata": {},
   "outputs": [],
   "source": []
  }
 ],
 "metadata": {
  "kernelspec": {
   "display_name": "Python 3",
   "language": "python",
   "name": "python3"
  },
  "language_info": {
   "codemirror_mode": {
    "name": "ipython",
    "version": 3
   },
   "file_extension": ".py",
   "mimetype": "text/x-python",
   "name": "python",
   "nbconvert_exporter": "python",
   "pygments_lexer": "ipython3",
   "version": "3.6.9"
  }
 },
 "nbformat": 4,
 "nbformat_minor": 2
}
